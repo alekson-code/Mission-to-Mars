{
 "cells": [
  {
   "cell_type": "markdown",
   "id": "c36e8a0d",
   "metadata": {},
   "source": [
    "# Deliverable 1: web scraping the Mars News\n",
    "- Scrape titles and preview text from Mars news articles.\n",
    "- Optionally export the data into a JSON file or a MongoDB database. "
   ]
  },
  {
   "cell_type": "code",
   "execution_count": 1,
   "id": "bb657996",
   "metadata": {},
   "outputs": [],
   "source": [
    "# import dependencies\n",
    "import pandas as pd\n",
    "import numpy as np\n",
    "from splinter import Browser\n",
    "from selenium import webdriver\n",
    "from selenium.webdriver.common.by import By\n",
    "from selenium.webdriver.common.keys import Keys\n",
    "from bs4 import BeautifulSoup as soup\n",
    "# import below when using Chrome browser\n",
    "from selenium.webdriver.chrome.service import Service\n",
    "from webdriver_manager.chrome import ChromeDriverManager"
   ]
  },
  {
   "cell_type": "code",
   "execution_count": 2,
   "id": "0dbf4940",
   "metadata": {},
   "outputs": [],
   "source": [
    "import time\n",
    "import json\n",
    "import os\n",
    "# set local chromedriver\n",
    "chromedrv = os.path.expanduser('~/ucbDA/chromedriver_win32/chromedriver')"
   ]
  },
  {
   "cell_type": "markdown",
   "id": "884cf120",
   "metadata": {},
   "source": [
    "## Method 1: splinter's executable_path"
   ]
  },
  {
   "cell_type": "code",
   "execution_count": 3,
   "id": "d40511cb",
   "metadata": {},
   "outputs": [],
   "source": [
    "# Set some default options for chrome browser\n",
    "options = webdriver.ChromeOptions()\n",
    "options.add_argument(\"--lang=en\")\n",
    "options.add_argument(\"--start-maximized\")\n",
    "options.add_argument(\"--disable-notifications\")\n",
    "# Set up splinter (PS: executable_path has deprecated)\n",
    "executable_path = {'executable_path': ChromeDriverManager().install()}\n",
    "browser = Browser('chrome', **executable_path, headless=False, options=options)\n",
    "# Visit a site defined in the url\n",
    "def geturl(url):\n",
    "    browser.visit(url)\n",
    "    # Optional delay for loading the page (unit: seconds)\n",
    "    browser.is_element_present_by_css('div.list_text', wait_time=1)"
   ]
  },
  {
   "cell_type": "code",
   "execution_count": 4,
   "id": "9d700339",
   "metadata": {},
   "outputs": [],
   "source": [
    "# Visit the Mars NASA news site\n",
    "geturl('https://redplanetscience.com')"
   ]
  },
  {
   "cell_type": "code",
   "execution_count": 5,
   "id": "bc144174",
   "metadata": {},
   "outputs": [],
   "source": [
    "# Parse the HTML\n",
    "html = browser.html\n",
    "news_soup = soup(html, 'html.parser')\n",
    "slide_elem = news_soup.select_one('div.list_text')"
   ]
  },
  {
   "cell_type": "code",
   "execution_count": 6,
   "id": "5795b0ff",
   "metadata": {},
   "outputs": [],
   "source": [
    "# Use the parent element to find the news article title\n",
    "title = slide_elem.find('div', class_='content_title').text"
   ]
  },
  {
   "cell_type": "code",
   "execution_count": 7,
   "id": "6374c193",
   "metadata": {
    "scrolled": true
   },
   "outputs": [],
   "source": [
    "# Use the parent element to find the paragraph text\n",
    "preview = slide_elem.find('div', class_='article_teaser_body').text"
   ]
  },
  {
   "cell_type": "code",
   "execution_count": 8,
   "id": "5e606dda",
   "metadata": {
    "scrolled": true
   },
   "outputs": [
    {
     "data": {
      "text/plain": [
       "[{'title': 'NASA Invites Public to Share Excitement of Mars 2020 Perseverance Rover Launch',\n",
       "  'preview': 'There are lots of ways to participate in the historic event, which is targeted for July 30.'}]"
      ]
     },
     "execution_count": 8,
     "metadata": {},
     "output_type": "execute_result"
    }
   ],
   "source": [
    "# dict\n",
    "news_list = [{'title': title, 'preview': preview}]\n",
    "news_list"
   ]
  },
  {
   "cell_type": "code",
   "execution_count": 9,
   "id": "9b41e310",
   "metadata": {},
   "outputs": [],
   "source": [
    "# export the Python list/dict into a JSON file\n",
    "outfile = './Data/mars_data.json'\n",
    "with open(outfile, 'w', encoding='utf-8') as f:\n",
    "    json.dump(news_list, f, ensure_ascii=False, indent=4)\n",
    "# close file (optional)\n",
    "f.close()"
   ]
  },
  {
   "cell_type": "code",
   "execution_count": 10,
   "id": "ddf3f9d6",
   "metadata": {
    "scrolled": true
   },
   "outputs": [
    {
     "data": {
      "text/plain": [
       "[{'title': 'NASA Invites Public to Share Excitement of Mars 2020 Perseverance Rover Launch',\n",
       "  'preview': 'There are lots of ways to participate in the historic event, which is targeted for July 30.'}]"
      ]
     },
     "execution_count": 10,
     "metadata": {},
     "output_type": "execute_result"
    }
   ],
   "source": [
    "# Verify the json file\n",
    "infile = open(outfile, 'r', encoding='utf-8')\n",
    "mars_data = json.load(infile)\n",
    "mars_data"
   ]
  },
  {
   "cell_type": "code",
   "execution_count": 11,
   "id": "a84d49c6",
   "metadata": {},
   "outputs": [],
   "source": [
    "browser.quit()"
   ]
  },
  {
   "cell_type": "markdown",
   "id": "fef2e35c",
   "metadata": {},
   "source": [
    "## Method 2: selenium's webdriver"
   ]
  },
  {
   "cell_type": "code",
   "execution_count": 12,
   "id": "e0a76dbb",
   "metadata": {},
   "outputs": [],
   "source": [
    "# Set some default options for chrome browser\n",
    "options = webdriver.ChromeOptions()\n",
    "options.add_argument(\"--lang=en\")\n",
    "options.add_argument(\"--start-maximized\")\n",
    "options.add_argument(\"--disable-notifications\")\n",
    "# Set up splinter (selenium 4)\n",
    "driver = webdriver.Chrome(service=Service(chromedrv), options=options)\n",
    "# Visit a site defined in the url\n",
    "def geturl(url):\n",
    "    driver.get(url)\n",
    "    # Optional delay for loading the page (unit: seconds)\n",
    "    driver.implicitly_wait(1)"
   ]
  },
  {
   "cell_type": "code",
   "execution_count": 13,
   "id": "7aef1979",
   "metadata": {},
   "outputs": [],
   "source": [
    "# Visit the Mars NASA news site\n",
    "geturl('https://redplanetscience.com')"
   ]
  },
  {
   "cell_type": "code",
   "execution_count": 14,
   "id": "bd95b717",
   "metadata": {},
   "outputs": [],
   "source": [
    "# Parse the HTML (selenium 4)\n",
    "html = driver.page_source\n",
    "news_soup = soup(html, 'html.parser')\n",
    "slide_elem = news_soup.select_one('div.list_text')"
   ]
  },
  {
   "cell_type": "code",
   "execution_count": 15,
   "id": "f1f39361",
   "metadata": {},
   "outputs": [],
   "source": [
    "# Use the parent element to find the news article title\n",
    "title = slide_elem.find('div', class_='content_title').text"
   ]
  },
  {
   "cell_type": "code",
   "execution_count": 16,
   "id": "d43dd25d",
   "metadata": {},
   "outputs": [],
   "source": [
    "# Use the parent element to find the paragraph text\n",
    "preview = slide_elem.find('div', class_='article_teaser_body').text"
   ]
  },
  {
   "cell_type": "code",
   "execution_count": 17,
   "id": "3cf14d1d",
   "metadata": {
    "scrolled": true
   },
   "outputs": [
    {
     "data": {
      "text/plain": [
       "[{'title': \"HiRISE Views NASA's InSight and Curiosity on Mars\",\n",
       "  'preview': 'New images taken from space offer the clearest orbital glimpse yet of InSight as well as a view of Curiosity rolling along.'}]"
      ]
     },
     "execution_count": 17,
     "metadata": {},
     "output_type": "execute_result"
    }
   ],
   "source": [
    "# dict\n",
    "news_list = [{'title': title, 'preview': preview}]\n",
    "news_list"
   ]
  },
  {
   "cell_type": "code",
   "execution_count": 18,
   "id": "eef06d95",
   "metadata": {},
   "outputs": [],
   "source": [
    "# export the Python list/dict into a JSON file\n",
    "outfile = './Data/mars_data.json'\n",
    "with open(outfile, 'w', encoding='utf-8') as f:\n",
    "    json.dump(news_list, f, ensure_ascii=False, indent=4)\n",
    "# close file (optional)\n",
    "f.close()"
   ]
  },
  {
   "cell_type": "code",
   "execution_count": 19,
   "id": "8e7b48dd",
   "metadata": {},
   "outputs": [
    {
     "data": {
      "text/plain": [
       "[{'title': \"HiRISE Views NASA's InSight and Curiosity on Mars\",\n",
       "  'preview': 'New images taken from space offer the clearest orbital glimpse yet of InSight as well as a view of Curiosity rolling along.'}]"
      ]
     },
     "execution_count": 19,
     "metadata": {},
     "output_type": "execute_result"
    }
   ],
   "source": [
    "# Verify the json file\n",
    "infile = open(outfile, 'r', encoding='utf-8')\n",
    "mars_data = json.load(infile)\n",
    "mars_data"
   ]
  },
  {
   "cell_type": "markdown",
   "id": "c333cb09",
   "metadata": {},
   "source": [
    "### Create a Mongo Database\n",
    "```\n",
    "mongoimport --type json -d mars_data -c news_list --drop --jsonArray mars_data.json\n",
    "```"
   ]
  },
  {
   "cell_type": "code",
   "execution_count": 20,
   "id": "dde661f0",
   "metadata": {},
   "outputs": [
    {
     "data": {
      "text/plain": [
       "['admin', 'config', 'local', 'mars_data', 'my_db1', 'petsitly_marketing']"
      ]
     },
     "execution_count": 20,
     "metadata": {},
     "output_type": "execute_result"
    }
   ],
   "source": [
    "from pymongo import MongoClient\n",
    "# Create an instance of MongoClient\n",
    "mongo = MongoClient(port=27017)\n",
    "mongo.list_database_names()"
   ]
  },
  {
   "cell_type": "code",
   "execution_count": 21,
   "id": "a3ba6c6c",
   "metadata": {},
   "outputs": [
    {
     "data": {
      "text/plain": [
       "['news_list', 'customer_list']"
      ]
     },
     "execution_count": 21,
     "metadata": {},
     "output_type": "execute_result"
    }
   ],
   "source": [
    "mars_db = mongo['mars_data']\n",
    "mars_db.list_collection_names()"
   ]
  },
  {
   "cell_type": "code",
   "execution_count": 22,
   "id": "e14d5769",
   "metadata": {
    "scrolled": true
   },
   "outputs": [
    {
     "data": {
      "text/plain": [
       "{'_id': ObjectId('6369157d61942092889c405c'),\n",
       " 'title': \"NASA's Curiosity Takes Selfie With 'Mary Anning' on the Red Planet\",\n",
       " 'preview': 'The Mars rover has drilled three samples of rock in this clay-enriched region since arriving in July.'}"
      ]
     },
     "execution_count": 22,
     "metadata": {},
     "output_type": "execute_result"
    }
   ],
   "source": [
    "mars_db = mongo['mars_data']\n",
    "mars_db['news_list'].find_one()"
   ]
  },
  {
   "cell_type": "code",
   "execution_count": 23,
   "id": "98652626",
   "metadata": {},
   "outputs": [],
   "source": [
    "driver.quit()"
   ]
  }
 ],
 "metadata": {
  "kernelspec": {
   "display_name": "py39env",
   "language": "python",
   "name": "py39env"
  },
  "language_info": {
   "codemirror_mode": {
    "name": "ipython",
    "version": 3
   },
   "file_extension": ".py",
   "mimetype": "text/x-python",
   "name": "python",
   "nbconvert_exporter": "python",
   "pygments_lexer": "ipython3",
   "version": "3.9.12"
  }
 },
 "nbformat": 4,
 "nbformat_minor": 5
}
